{
 "cells": [
  {
   "cell_type": "code",
   "execution_count": 1,
   "metadata": {
    "ExecuteTime": {
     "end_time": "2020-06-11T14:18:05.449796Z",
     "start_time": "2020-06-11T14:18:04.382438Z"
    }
   },
   "outputs": [],
   "source": [
    "import numpy as np\n",
    "import pandas as pd\n",
    "from selenium import webdriver\n",
    "from time import time, sleep\n",
    "from bs4 import BeautifulSoup\n",
    "import requests\n",
    "import itertools"
   ]
  },
  {
   "cell_type": "markdown",
   "metadata": {},
   "source": [
    "# Data Cleaning"
   ]
  },
  {
   "cell_type": "markdown",
   "metadata": {},
   "source": [
    "## First I will clean the ratings column to obtain to separate columns, the rating and the number of reviews"
   ]
  },
  {
   "cell_type": "code",
   "execution_count": 24,
   "metadata": {
    "ExecuteTime": {
     "end_time": "2020-06-10T10:47:38.921236Z",
     "start_time": "2020-06-10T10:47:38.897082Z"
    }
   },
   "outputs": [],
   "source": [
    "lettings = pd.read_csv('lettings_with_price3')"
   ]
  },
  {
   "cell_type": "code",
   "execution_count": 85,
   "metadata": {
    "ExecuteTime": {
     "end_time": "2020-05-29T20:21:40.384412Z",
     "start_time": "2020-05-29T20:21:40.378710Z"
    }
   },
   "outputs": [],
   "source": [
    "lettings.dropna(subset=['Rating'], inplace=True)"
   ]
  },
  {
   "cell_type": "code",
   "execution_count": 86,
   "metadata": {
    "ExecuteTime": {
     "end_time": "2020-05-29T20:21:41.503084Z",
     "start_time": "2020-05-29T20:21:41.499758Z"
    }
   },
   "outputs": [
    {
     "data": {
      "text/plain": [
       "(1795, 6)"
      ]
     },
     "execution_count": 86,
     "metadata": {},
     "output_type": "execute_result"
    }
   ],
   "source": [
    "lettings.shape"
   ]
  },
  {
   "cell_type": "code",
   "execution_count": 88,
   "metadata": {
    "ExecuteTime": {
     "end_time": "2020-05-29T20:22:33.679538Z",
     "start_time": "2020-05-29T20:22:33.672550Z"
    }
   },
   "outputs": [],
   "source": [
    "lettings['rating'] = lettings['Rating'].str.split('out of',n=1).str[0]"
   ]
  },
  {
   "cell_type": "code",
   "execution_count": 89,
   "metadata": {
    "ExecuteTime": {
     "end_time": "2020-05-29T20:22:37.023159Z",
     "start_time": "2020-05-29T20:22:37.019094Z"
    }
   },
   "outputs": [],
   "source": [
    "new_ratings = []\n",
    "\n",
    "for i in lettings['rating']:\n",
    "    if '\\n' in i:\n",
    "        new_ratings.append(None)\n",
    "    else:\n",
    "        new_ratings.append(i)"
   ]
  },
  {
   "cell_type": "code",
   "execution_count": 90,
   "metadata": {
    "ExecuteTime": {
     "end_time": "2020-05-29T20:22:38.166421Z",
     "start_time": "2020-05-29T20:22:38.163517Z"
    }
   },
   "outputs": [],
   "source": [
    "lettings['new_ratings'] = new_ratings"
   ]
  },
  {
   "cell_type": "code",
   "execution_count": 91,
   "metadata": {
    "ExecuteTime": {
     "end_time": "2020-05-29T20:22:39.184938Z",
     "start_time": "2020-05-29T20:22:39.175609Z"
    }
   },
   "outputs": [],
   "source": [
    "lettings.dropna(subset=['new_ratings'], inplace=True)"
   ]
  },
  {
   "cell_type": "code",
   "execution_count": 93,
   "metadata": {
    "ExecuteTime": {
     "end_time": "2020-05-29T20:22:54.890617Z",
     "start_time": "2020-05-29T20:22:54.886393Z"
    }
   },
   "outputs": [
    {
     "data": {
      "text/plain": [
       "(1582, 8)"
      ]
     },
     "execution_count": 93,
     "metadata": {},
     "output_type": "execute_result"
    }
   ],
   "source": [
    "lettings.shape"
   ]
  },
  {
   "cell_type": "code",
   "execution_count": 94,
   "metadata": {
    "ExecuteTime": {
     "end_time": "2020-05-29T20:23:25.963349Z",
     "start_time": "2020-05-29T20:23:25.957103Z"
    }
   },
   "outputs": [],
   "source": [
    "lettings['rating'] = lettings['Rating'].str.split(' ',n=1).str[0]"
   ]
  },
  {
   "cell_type": "code",
   "execution_count": 96,
   "metadata": {
    "ExecuteTime": {
     "end_time": "2020-05-29T20:23:49.849674Z",
     "start_time": "2020-05-29T20:23:49.843936Z"
    }
   },
   "outputs": [],
   "source": [
    "lettings['rating'] = pd.to_numeric(lettings['rating'])"
   ]
  },
  {
   "cell_type": "code",
   "execution_count": 101,
   "metadata": {
    "ExecuteTime": {
     "end_time": "2020-05-29T20:25:12.583453Z",
     "start_time": "2020-05-29T20:25:12.579739Z"
    }
   },
   "outputs": [
    {
     "data": {
      "text/plain": [
       "'4.87 out of 5 stars from 164 reviews\\n4.87 (164 reviews)'"
      ]
     },
     "execution_count": 101,
     "metadata": {},
     "output_type": "execute_result"
    }
   ],
   "source": [
    "lettings.Rating[2]"
   ]
  },
  {
   "cell_type": "code",
   "execution_count": 105,
   "metadata": {
    "ExecuteTime": {
     "end_time": "2020-05-29T20:26:59.631553Z",
     "start_time": "2020-05-29T20:26:59.624880Z"
    }
   },
   "outputs": [],
   "source": [
    "lettings['number_of_reviews'] = lettings['Rating'].str.split(' ',n=7).str[6]"
   ]
  },
  {
   "cell_type": "code",
   "execution_count": 106,
   "metadata": {
    "ExecuteTime": {
     "end_time": "2020-05-29T20:27:01.275908Z",
     "start_time": "2020-05-29T20:27:01.271654Z"
    }
   },
   "outputs": [],
   "source": [
    "lettings['number_of_reviews'] = pd.to_numeric(lettings['number_of_reviews'])"
   ]
  },
  {
   "cell_type": "code",
   "execution_count": 111,
   "metadata": {
    "ExecuteTime": {
     "end_time": "2020-05-29T20:29:08.911172Z",
     "start_time": "2020-05-29T20:29:08.859413Z"
    }
   },
   "outputs": [],
   "source": [
    "lettings.to_csv('lettings_with_price4', index=False)"
   ]
  },
  {
   "cell_type": "markdown",
   "metadata": {},
   "source": [
    "## Next, I will clean the info column, to extract the room type, number of bedrooms, bathrooms and guests"
   ]
  },
  {
   "cell_type": "markdown",
   "metadata": {},
   "source": [
    "### Accomodation Type"
   ]
  },
  {
   "cell_type": "code",
   "execution_count": 116,
   "metadata": {
    "ExecuteTime": {
     "end_time": "2020-05-29T20:31:46.866445Z",
     "start_time": "2020-05-29T20:31:46.854493Z"
    }
   },
   "outputs": [
    {
     "data": {
      "text/html": [
       "<div>\n",
       "<style scoped>\n",
       "    .dataframe tbody tr th:only-of-type {\n",
       "        vertical-align: middle;\n",
       "    }\n",
       "\n",
       "    .dataframe tbody tr th {\n",
       "        vertical-align: top;\n",
       "    }\n",
       "\n",
       "    .dataframe thead th {\n",
       "        text-align: right;\n",
       "    }\n",
       "</style>\n",
       "<table border=\"1\" class=\"dataframe\">\n",
       "  <thead>\n",
       "    <tr style=\"text-align: right;\">\n",
       "      <th></th>\n",
       "      <th>Title</th>\n",
       "      <th>info</th>\n",
       "      <th>Rating</th>\n",
       "      <th>reviews</th>\n",
       "      <th>price_per_night</th>\n",
       "      <th>no_amenities</th>\n",
       "      <th>rating</th>\n",
       "      <th>new_ratings</th>\n",
       "      <th>number_of_reviews</th>\n",
       "    </tr>\n",
       "  </thead>\n",
       "  <tbody>\n",
       "    <tr>\n",
       "      <td>0</td>\n",
       "      <td>The Studio in West Ealing London</td>\n",
       "      <td>Entire guest suite hosted by Tania\\n2 guests ·...</td>\n",
       "      <td>4.69 out of 5 stars from 275 reviews\\n4.69 (27...</td>\n",
       "      <td>['Jessica\\nApril 2020\\nA very compact space cl...</td>\n",
       "      <td>£45/ night</td>\n",
       "      <td>Show all 28 amenities</td>\n",
       "      <td>4.69</td>\n",
       "      <td>4.69</td>\n",
       "      <td>275.0</td>\n",
       "    </tr>\n",
       "    <tr>\n",
       "      <td>2</td>\n",
       "      <td>LAST MINUTE - SINGLE ROOM</td>\n",
       "      <td>Private room in house hosted by Jelena\\n1 gues...</td>\n",
       "      <td>4.87 out of 5 stars from 164 reviews\\n4.87 (16...</td>\n",
       "      <td>['Richard\\nMarch 2020\\nAll you need for a stay...</td>\n",
       "      <td>£29/ night</td>\n",
       "      <td>Show all 25 amenities</td>\n",
       "      <td>4.87</td>\n",
       "      <td>4.87</td>\n",
       "      <td>164.0</td>\n",
       "    </tr>\n",
       "    <tr>\n",
       "      <td>3</td>\n",
       "      <td>Homely room in leafy Ealing.</td>\n",
       "      <td>Private room in house hosted by Tina\\n1 guest ...</td>\n",
       "      <td>4.75 out of 5 stars from 333 reviews\\n4.75 (33...</td>\n",
       "      <td>['Brian\\nMarch 2020\\nSecond time staying with ...</td>\n",
       "      <td>£29/ night</td>\n",
       "      <td>Show all 17 amenities</td>\n",
       "      <td>4.75</td>\n",
       "      <td>4.75</td>\n",
       "      <td>333.0</td>\n",
       "    </tr>\n",
       "    <tr>\n",
       "      <td>4</td>\n",
       "      <td>Small single room, West London, budget travel!</td>\n",
       "      <td>Private room in house hosted by Rashpal\\n1 gue...</td>\n",
       "      <td>4.68 out of 5 stars from 28 reviews\\n4.68 (28 ...</td>\n",
       "      <td>[\"Czarek\\nFebruary 2020\\nAnother great stay at...</td>\n",
       "      <td>£21/ night</td>\n",
       "      <td>Show all 26 amenities</td>\n",
       "      <td>4.68</td>\n",
       "      <td>4.68</td>\n",
       "      <td>28.0</td>\n",
       "    </tr>\n",
       "    <tr>\n",
       "      <td>5</td>\n",
       "      <td>Cosy Double Room</td>\n",
       "      <td>Private room in house hosted by Jesika\\n1 gues...</td>\n",
       "      <td>4.78 out of 5 stars from 39 reviews\\n4.78 (39 ...</td>\n",
       "      <td>['Dory\\nMarch 2020\\nPerfect\\nDory\\nFebruary 20...</td>\n",
       "      <td>£21/ night</td>\n",
       "      <td>Show all 17 amenities</td>\n",
       "      <td>4.78</td>\n",
       "      <td>4.78</td>\n",
       "      <td>39.0</td>\n",
       "    </tr>\n",
       "  </tbody>\n",
       "</table>\n",
       "</div>"
      ],
      "text/plain": [
       "                                            Title  \\\n",
       "0                The Studio in West Ealing London   \n",
       "2                       LAST MINUTE - SINGLE ROOM   \n",
       "3                    Homely room in leafy Ealing.   \n",
       "4  Small single room, West London, budget travel!   \n",
       "5                                Cosy Double Room   \n",
       "\n",
       "                                                info  \\\n",
       "0  Entire guest suite hosted by Tania\\n2 guests ·...   \n",
       "2  Private room in house hosted by Jelena\\n1 gues...   \n",
       "3  Private room in house hosted by Tina\\n1 guest ...   \n",
       "4  Private room in house hosted by Rashpal\\n1 gue...   \n",
       "5  Private room in house hosted by Jesika\\n1 gues...   \n",
       "\n",
       "                                              Rating  \\\n",
       "0  4.69 out of 5 stars from 275 reviews\\n4.69 (27...   \n",
       "2  4.87 out of 5 stars from 164 reviews\\n4.87 (16...   \n",
       "3  4.75 out of 5 stars from 333 reviews\\n4.75 (33...   \n",
       "4  4.68 out of 5 stars from 28 reviews\\n4.68 (28 ...   \n",
       "5  4.78 out of 5 stars from 39 reviews\\n4.78 (39 ...   \n",
       "\n",
       "                                             reviews price_per_night  \\\n",
       "0  ['Jessica\\nApril 2020\\nA very compact space cl...      £45/ night   \n",
       "2  ['Richard\\nMarch 2020\\nAll you need for a stay...      £29/ night   \n",
       "3  ['Brian\\nMarch 2020\\nSecond time staying with ...      £29/ night   \n",
       "4  [\"Czarek\\nFebruary 2020\\nAnother great stay at...      £21/ night   \n",
       "5  ['Dory\\nMarch 2020\\nPerfect\\nDory\\nFebruary 20...      £21/ night   \n",
       "\n",
       "            no_amenities  rating new_ratings  number_of_reviews  \n",
       "0  Show all 28 amenities    4.69       4.69               275.0  \n",
       "2  Show all 25 amenities    4.87       4.87               164.0  \n",
       "3  Show all 17 amenities    4.75       4.75               333.0  \n",
       "4  Show all 26 amenities    4.68       4.68                28.0  \n",
       "5  Show all 17 amenities    4.78       4.78                39.0  "
      ]
     },
     "execution_count": 116,
     "metadata": {},
     "output_type": "execute_result"
    }
   ],
   "source": [
    "lettings.head()"
   ]
  },
  {
   "cell_type": "code",
   "execution_count": 118,
   "metadata": {
    "ExecuteTime": {
     "end_time": "2020-05-29T20:33:55.271668Z",
     "start_time": "2020-05-29T20:33:55.264848Z"
    }
   },
   "outputs": [],
   "source": [
    "lettings['accomodation_type'] = lettings['info'].str.split('hosted',n=2).str[0]"
   ]
  },
  {
   "cell_type": "code",
   "execution_count": 122,
   "metadata": {
    "ExecuteTime": {
     "end_time": "2020-05-29T20:36:20.773766Z",
     "start_time": "2020-05-29T20:36:20.767704Z"
    }
   },
   "outputs": [
    {
     "data": {
      "text/plain": [
       "Private room in house                      413\n",
       "Entire flat                                392\n",
       "Private room in flat                       320\n",
       "Room in hostel                              57\n",
       "Private room in townhouse                   56\n",
       "Shared room in hostel                       35\n",
       "Entire house                                34\n",
       "Entire serviced apartment                   26\n",
       "Private room in guest suite                 22\n",
       "Private room in condominium                 19\n",
       "Private room in bungalow                    18\n",
       "Entire apartment                            18\n",
       "Entire guest house                          17\n",
       "Room in bed and breakfast                   15\n",
       "Private room in bed and breakfast           14\n",
       "Room in boutique hotel                      13\n",
       "Entire guest suite                          13\n",
       "Entire loft                                 12\n",
       "Private room in guest house                 10\n",
       "Entire townhouse                             9\n",
       "Room in hotel                                9\n",
       "Shared room in house                         8\n",
       "Private room in loft                         7\n",
       "Private room in cottage                      6\n",
       "Entire bungalow                              6\n",
       "Entire cottage                               5\n",
       "Room in aparthotel                           4\n",
       "Boat                                         4\n",
       "Private room in serviced apartment           3\n",
       "Entire chalet                                3\n",
       "Room in serviced apartment                   3\n",
       "Private room in tiny house                   3\n",
       "Earth house                                  2\n",
       "Private room in casa particular (cuba)       1\n",
       "Tiny house                                   1\n",
       "Entire place                                 1\n",
       "Shared room in guest house                   1\n",
       "Private room in hut                          1\n",
       "Houseboat                                    1\n",
       "Name: accomodation_type, dtype: int64"
      ]
     },
     "execution_count": 122,
     "metadata": {},
     "output_type": "execute_result"
    }
   ],
   "source": [
    "lettings.accomodation_type.value_counts()"
   ]
  },
  {
   "cell_type": "code",
   "execution_count": 127,
   "metadata": {
    "ExecuteTime": {
     "end_time": "2020-05-29T20:40:07.259600Z",
     "start_time": "2020-05-29T20:40:07.211029Z"
    }
   },
   "outputs": [],
   "source": [
    "lettings.to_csv('lettings_with_price4', index=False)"
   ]
  },
  {
   "cell_type": "markdown",
   "metadata": {},
   "source": [
    "### Cleaning the number of guests"
   ]
  },
  {
   "cell_type": "code",
   "execution_count": 112,
   "metadata": {
    "ExecuteTime": {
     "end_time": "2020-05-29T20:29:15.678506Z",
     "start_time": "2020-05-29T20:29:15.676080Z"
    }
   },
   "outputs": [],
   "source": [
    "import re"
   ]
  },
  {
   "cell_type": "code",
   "execution_count": 146,
   "metadata": {
    "ExecuteTime": {
     "end_time": "2020-05-29T20:43:28.725458Z",
     "start_time": "2020-05-29T20:43:28.721500Z"
    }
   },
   "outputs": [
    {
     "data": {
      "text/plain": [
       "'Entire guest suite hosted by Tania\\n2 guests · Studio · 1 bed · 1 bathroom'"
      ]
     },
     "execution_count": 146,
     "metadata": {},
     "output_type": "execute_result"
    }
   ],
   "source": [
    "lettings['info'][0]"
   ]
  },
  {
   "cell_type": "code",
   "execution_count": 128,
   "metadata": {
    "ExecuteTime": {
     "end_time": "2020-05-29T20:40:18.406580Z",
     "start_time": "2020-05-29T20:40:18.403798Z"
    }
   },
   "outputs": [],
   "source": [
    "guest_pattern = re.compile('(-?\\d+(?:\\.\\d+)?\\sguest)')"
   ]
  },
  {
   "cell_type": "code",
   "execution_count": 129,
   "metadata": {
    "ExecuteTime": {
     "end_time": "2020-05-29T20:40:21.841561Z",
     "start_time": "2020-05-29T20:40:21.828790Z"
    }
   },
   "outputs": [],
   "source": [
    "number_of_guests = []\n",
    "for i in lettings['info']:\n",
    "    try:\n",
    "        number_of_guests.append(re.findall(guest_pattern, i))\n",
    "    except:\n",
    "        number_of_guests.append(np.nan)"
   ]
  },
  {
   "cell_type": "code",
   "execution_count": 130,
   "metadata": {
    "ExecuteTime": {
     "end_time": "2020-05-29T20:40:24.164211Z",
     "start_time": "2020-05-29T20:40:24.160747Z"
    }
   },
   "outputs": [],
   "source": [
    "lettings['number_of_guests'] = number_of_guests"
   ]
  },
  {
   "cell_type": "code",
   "execution_count": 131,
   "metadata": {
    "ExecuteTime": {
     "end_time": "2020-05-29T20:40:26.715213Z",
     "start_time": "2020-05-29T20:40:26.707942Z"
    }
   },
   "outputs": [
    {
     "data": {
      "text/plain": [
       "0       ['2 guest']\n",
       "2       ['1 guest']\n",
       "3       ['1 guest']\n",
       "4       ['1 guest']\n",
       "5       ['1 guest']\n",
       "           ...     \n",
       "2206    ['2 guest']\n",
       "2208    ['2 guest']\n",
       "2209    ['3 guest']\n",
       "2211    ['2 guest']\n",
       "2217    ['2 guest']\n",
       "Name: number_of_guests, Length: 1582, dtype: object"
      ]
     },
     "execution_count": 131,
     "metadata": {},
     "output_type": "execute_result"
    }
   ],
   "source": [
    "lettings['number_of_guests'].astype(str)"
   ]
  },
  {
   "cell_type": "code",
   "execution_count": 132,
   "metadata": {
    "ExecuteTime": {
     "end_time": "2020-05-29T20:40:33.754954Z",
     "start_time": "2020-05-29T20:40:33.747990Z"
    }
   },
   "outputs": [],
   "source": [
    "lettings.dropna(subset=['number_of_guests'], inplace=True)"
   ]
  },
  {
   "cell_type": "code",
   "execution_count": 133,
   "metadata": {
    "ExecuteTime": {
     "end_time": "2020-05-29T20:40:35.650518Z",
     "start_time": "2020-05-29T20:40:35.646139Z"
    }
   },
   "outputs": [],
   "source": [
    "lettings.number_of_guests = lettings.number_of_guests.apply(lambda y: np.nan if len(y)==0 else y)"
   ]
  },
  {
   "cell_type": "code",
   "execution_count": 134,
   "metadata": {
    "ExecuteTime": {
     "end_time": "2020-05-29T20:40:41.078074Z",
     "start_time": "2020-05-29T20:40:41.071966Z"
    }
   },
   "outputs": [],
   "source": [
    "lettings.dropna(subset=['number_of_guests'], inplace=True)"
   ]
  },
  {
   "cell_type": "code",
   "execution_count": 135,
   "metadata": {
    "ExecuteTime": {
     "end_time": "2020-05-29T20:40:42.980375Z",
     "start_time": "2020-05-29T20:40:42.976235Z"
    }
   },
   "outputs": [],
   "source": [
    "number_guests = []\n",
    "for i in lettings.number_of_guests:\n",
    "    for f in i:\n",
    "        try:\n",
    "            number_guests.append(f)\n",
    "        except:\n",
    "            number_guests.append(np.nan)"
   ]
  },
  {
   "cell_type": "code",
   "execution_count": 136,
   "metadata": {
    "ExecuteTime": {
     "end_time": "2020-05-29T20:40:45.297507Z",
     "start_time": "2020-05-29T20:40:45.293351Z"
    }
   },
   "outputs": [],
   "source": [
    "lettings['num_guests'] = number_guests"
   ]
  },
  {
   "cell_type": "code",
   "execution_count": 137,
   "metadata": {
    "ExecuteTime": {
     "end_time": "2020-05-29T20:40:48.232404Z",
     "start_time": "2020-05-29T20:40:48.226602Z"
    }
   },
   "outputs": [
    {
     "data": {
      "text/plain": [
       "0       2 guest\n",
       "2       1 guest\n",
       "3       1 guest\n",
       "4       1 guest\n",
       "5       1 guest\n",
       "         ...   \n",
       "2206    2 guest\n",
       "2208    2 guest\n",
       "2209    3 guest\n",
       "2211    2 guest\n",
       "2217    2 guest\n",
       "Name: num_guests, Length: 1577, dtype: object"
      ]
     },
     "execution_count": 137,
     "metadata": {},
     "output_type": "execute_result"
    }
   ],
   "source": [
    "lettings['num_guests'].astype(str)"
   ]
  },
  {
   "cell_type": "code",
   "execution_count": 138,
   "metadata": {
    "ExecuteTime": {
     "end_time": "2020-05-29T20:40:52.685475Z",
     "start_time": "2020-05-29T20:40:52.679464Z"
    }
   },
   "outputs": [],
   "source": [
    "lettings['guests'] = lettings['num_guests'].str.split(n=1).str[0]"
   ]
  },
  {
   "cell_type": "code",
   "execution_count": 139,
   "metadata": {
    "ExecuteTime": {
     "end_time": "2020-05-29T20:40:56.074730Z",
     "start_time": "2020-05-29T20:40:56.068804Z"
    }
   },
   "outputs": [],
   "source": [
    "lettings.drop(['number_of_guests','num_guests'], axis=1, inplace=True)"
   ]
  },
  {
   "cell_type": "code",
   "execution_count": 140,
   "metadata": {
    "ExecuteTime": {
     "end_time": "2020-05-29T20:40:57.918938Z",
     "start_time": "2020-05-29T20:40:57.914110Z"
    }
   },
   "outputs": [],
   "source": [
    "lettings['guests'] = pd.to_numeric(lettings['guests'])"
   ]
  },
  {
   "cell_type": "code",
   "execution_count": 142,
   "metadata": {
    "ExecuteTime": {
     "end_time": "2020-05-29T20:41:14.990246Z",
     "start_time": "2020-05-29T20:41:14.984197Z"
    }
   },
   "outputs": [
    {
     "data": {
      "text/plain": [
       "2     738\n",
       "1     369\n",
       "4     164\n",
       "3     143\n",
       "6      58\n",
       "5      39\n",
       "8      21\n",
       "7      17\n",
       "10     10\n",
       "9       8\n",
       "12      7\n",
       "13      2\n",
       "15      1\n",
       "Name: guests, dtype: int64"
      ]
     },
     "execution_count": 142,
     "metadata": {},
     "output_type": "execute_result"
    }
   ],
   "source": [
    "lettings.guests.value_counts()"
   ]
  },
  {
   "cell_type": "code",
   "execution_count": 148,
   "metadata": {
    "ExecuteTime": {
     "end_time": "2020-05-29T20:43:51.186010Z",
     "start_time": "2020-05-29T20:43:51.181650Z"
    }
   },
   "outputs": [
    {
     "data": {
      "text/plain": [
       "(1577, 11)"
      ]
     },
     "execution_count": 148,
     "metadata": {},
     "output_type": "execute_result"
    }
   ],
   "source": [
    "lettings.shape"
   ]
  },
  {
   "cell_type": "code",
   "execution_count": 143,
   "metadata": {
    "ExecuteTime": {
     "end_time": "2020-05-29T20:42:56.759988Z",
     "start_time": "2020-05-29T20:42:56.707038Z"
    }
   },
   "outputs": [],
   "source": [
    "lettings.to_csv('lettings_with_price4', index=False)"
   ]
  },
  {
   "cell_type": "code",
   "execution_count": 180,
   "metadata": {
    "ExecuteTime": {
     "end_time": "2020-05-29T20:49:03.488143Z",
     "start_time": "2020-05-29T20:49:03.461291Z"
    }
   },
   "outputs": [],
   "source": [
    "lettings = pd.read_csv('lettings_with_price4')"
   ]
  },
  {
   "cell_type": "markdown",
   "metadata": {
    "ExecuteTime": {
     "end_time": "2020-05-09T22:29:48.906218Z",
     "start_time": "2020-05-09T22:29:48.887484Z"
    }
   },
   "source": [
    "### Cleaning the number of bedrooms"
   ]
  },
  {
   "cell_type": "code",
   "execution_count": 181,
   "metadata": {
    "ExecuteTime": {
     "end_time": "2020-05-29T20:49:06.409388Z",
     "start_time": "2020-05-29T20:49:06.396338Z"
    }
   },
   "outputs": [
    {
     "data": {
      "text/html": [
       "<div>\n",
       "<style scoped>\n",
       "    .dataframe tbody tr th:only-of-type {\n",
       "        vertical-align: middle;\n",
       "    }\n",
       "\n",
       "    .dataframe tbody tr th {\n",
       "        vertical-align: top;\n",
       "    }\n",
       "\n",
       "    .dataframe thead th {\n",
       "        text-align: right;\n",
       "    }\n",
       "</style>\n",
       "<table border=\"1\" class=\"dataframe\">\n",
       "  <thead>\n",
       "    <tr style=\"text-align: right;\">\n",
       "      <th></th>\n",
       "      <th>Title</th>\n",
       "      <th>info</th>\n",
       "      <th>Rating</th>\n",
       "      <th>reviews</th>\n",
       "      <th>price_per_night</th>\n",
       "      <th>no_amenities</th>\n",
       "      <th>rating</th>\n",
       "      <th>new_ratings</th>\n",
       "      <th>number_of_reviews</th>\n",
       "      <th>accomodation_type</th>\n",
       "      <th>guests</th>\n",
       "    </tr>\n",
       "  </thead>\n",
       "  <tbody>\n",
       "    <tr>\n",
       "      <td>0</td>\n",
       "      <td>The Studio in West Ealing London</td>\n",
       "      <td>Entire guest suite hosted by Tania\\n2 guests ·...</td>\n",
       "      <td>4.69 out of 5 stars from 275 reviews\\n4.69 (27...</td>\n",
       "      <td>['Jessica\\nApril 2020\\nA very compact space cl...</td>\n",
       "      <td>£45/ night</td>\n",
       "      <td>Show all 28 amenities</td>\n",
       "      <td>4.69</td>\n",
       "      <td>4.69</td>\n",
       "      <td>275.0</td>\n",
       "      <td>Entire guest suite</td>\n",
       "      <td>2</td>\n",
       "    </tr>\n",
       "    <tr>\n",
       "      <td>1</td>\n",
       "      <td>LAST MINUTE - SINGLE ROOM</td>\n",
       "      <td>Private room in house hosted by Jelena\\n1 gues...</td>\n",
       "      <td>4.87 out of 5 stars from 164 reviews\\n4.87 (16...</td>\n",
       "      <td>['Richard\\nMarch 2020\\nAll you need for a stay...</td>\n",
       "      <td>£29/ night</td>\n",
       "      <td>Show all 25 amenities</td>\n",
       "      <td>4.87</td>\n",
       "      <td>4.87</td>\n",
       "      <td>164.0</td>\n",
       "      <td>Private room in house</td>\n",
       "      <td>1</td>\n",
       "    </tr>\n",
       "    <tr>\n",
       "      <td>2</td>\n",
       "      <td>Homely room in leafy Ealing.</td>\n",
       "      <td>Private room in house hosted by Tina\\n1 guest ...</td>\n",
       "      <td>4.75 out of 5 stars from 333 reviews\\n4.75 (33...</td>\n",
       "      <td>['Brian\\nMarch 2020\\nSecond time staying with ...</td>\n",
       "      <td>£29/ night</td>\n",
       "      <td>Show all 17 amenities</td>\n",
       "      <td>4.75</td>\n",
       "      <td>4.75</td>\n",
       "      <td>333.0</td>\n",
       "      <td>Private room in house</td>\n",
       "      <td>1</td>\n",
       "    </tr>\n",
       "    <tr>\n",
       "      <td>3</td>\n",
       "      <td>Small single room, West London, budget travel!</td>\n",
       "      <td>Private room in house hosted by Rashpal\\n1 gue...</td>\n",
       "      <td>4.68 out of 5 stars from 28 reviews\\n4.68 (28 ...</td>\n",
       "      <td>[\"Czarek\\nFebruary 2020\\nAnother great stay at...</td>\n",
       "      <td>£21/ night</td>\n",
       "      <td>Show all 26 amenities</td>\n",
       "      <td>4.68</td>\n",
       "      <td>4.68</td>\n",
       "      <td>28.0</td>\n",
       "      <td>Private room in house</td>\n",
       "      <td>1</td>\n",
       "    </tr>\n",
       "    <tr>\n",
       "      <td>4</td>\n",
       "      <td>Cosy Double Room</td>\n",
       "      <td>Private room in house hosted by Jesika\\n1 gues...</td>\n",
       "      <td>4.78 out of 5 stars from 39 reviews\\n4.78 (39 ...</td>\n",
       "      <td>['Dory\\nMarch 2020\\nPerfect\\nDory\\nFebruary 20...</td>\n",
       "      <td>£21/ night</td>\n",
       "      <td>Show all 17 amenities</td>\n",
       "      <td>4.78</td>\n",
       "      <td>4.78</td>\n",
       "      <td>39.0</td>\n",
       "      <td>Private room in house</td>\n",
       "      <td>1</td>\n",
       "    </tr>\n",
       "  </tbody>\n",
       "</table>\n",
       "</div>"
      ],
      "text/plain": [
       "                                            Title  \\\n",
       "0                The Studio in West Ealing London   \n",
       "1                       LAST MINUTE - SINGLE ROOM   \n",
       "2                    Homely room in leafy Ealing.   \n",
       "3  Small single room, West London, budget travel!   \n",
       "4                                Cosy Double Room   \n",
       "\n",
       "                                                info  \\\n",
       "0  Entire guest suite hosted by Tania\\n2 guests ·...   \n",
       "1  Private room in house hosted by Jelena\\n1 gues...   \n",
       "2  Private room in house hosted by Tina\\n1 guest ...   \n",
       "3  Private room in house hosted by Rashpal\\n1 gue...   \n",
       "4  Private room in house hosted by Jesika\\n1 gues...   \n",
       "\n",
       "                                              Rating  \\\n",
       "0  4.69 out of 5 stars from 275 reviews\\n4.69 (27...   \n",
       "1  4.87 out of 5 stars from 164 reviews\\n4.87 (16...   \n",
       "2  4.75 out of 5 stars from 333 reviews\\n4.75 (33...   \n",
       "3  4.68 out of 5 stars from 28 reviews\\n4.68 (28 ...   \n",
       "4  4.78 out of 5 stars from 39 reviews\\n4.78 (39 ...   \n",
       "\n",
       "                                             reviews price_per_night  \\\n",
       "0  ['Jessica\\nApril 2020\\nA very compact space cl...      £45/ night   \n",
       "1  ['Richard\\nMarch 2020\\nAll you need for a stay...      £29/ night   \n",
       "2  ['Brian\\nMarch 2020\\nSecond time staying with ...      £29/ night   \n",
       "3  [\"Czarek\\nFebruary 2020\\nAnother great stay at...      £21/ night   \n",
       "4  ['Dory\\nMarch 2020\\nPerfect\\nDory\\nFebruary 20...      £21/ night   \n",
       "\n",
       "            no_amenities  rating new_ratings  number_of_reviews  \\\n",
       "0  Show all 28 amenities    4.69       4.69               275.0   \n",
       "1  Show all 25 amenities    4.87       4.87               164.0   \n",
       "2  Show all 17 amenities    4.75       4.75               333.0   \n",
       "3  Show all 26 amenities    4.68       4.68                28.0   \n",
       "4  Show all 17 amenities    4.78       4.78                39.0   \n",
       "\n",
       "        accomodation_type  guests  \n",
       "0     Entire guest suite        2  \n",
       "1  Private room in house        1  \n",
       "2  Private room in house        1  \n",
       "3  Private room in house        1  \n",
       "4  Private room in house        1  "
      ]
     },
     "execution_count": 181,
     "metadata": {},
     "output_type": "execute_result"
    }
   ],
   "source": [
    "lettings.head()"
   ]
  },
  {
   "cell_type": "code",
   "execution_count": 196,
   "metadata": {
    "ExecuteTime": {
     "end_time": "2020-05-29T20:51:33.084005Z",
     "start_time": "2020-05-29T20:51:33.080275Z"
    }
   },
   "outputs": [
    {
     "data": {
      "text/plain": [
       "'Entire guest suite hosted by Tania\\n2 guests · Studio · 1 bed · 1 bathroom'"
      ]
     },
     "execution_count": 196,
     "metadata": {},
     "output_type": "execute_result"
    }
   ],
   "source": [
    "lettings['info'][0]"
   ]
  },
  {
   "cell_type": "code",
   "execution_count": 197,
   "metadata": {
    "ExecuteTime": {
     "end_time": "2020-05-29T20:52:29.209999Z",
     "start_time": "2020-05-29T20:52:29.207036Z"
    }
   },
   "outputs": [],
   "source": [
    "bed_pattern = re.compile('(-?\\d+(?:\\.\\d+)?\\sbed[s|\\s])')"
   ]
  },
  {
   "cell_type": "code",
   "execution_count": 198,
   "metadata": {
    "ExecuteTime": {
     "end_time": "2020-05-29T20:52:30.449302Z",
     "start_time": "2020-05-29T20:52:30.437222Z"
    }
   },
   "outputs": [],
   "source": [
    "number_of_beds = []\n",
    "for i in lettings['info']:\n",
    "    try:\n",
    "        number_of_beds.append(re.findall(bed_pattern, i))\n",
    "    except:\n",
    "        number_of_beds.append(np.nan)"
   ]
  },
  {
   "cell_type": "code",
   "execution_count": 200,
   "metadata": {
    "ExecuteTime": {
     "end_time": "2020-05-29T20:52:51.807451Z",
     "start_time": "2020-05-29T20:52:51.802623Z"
    }
   },
   "outputs": [
    {
     "data": {
      "text/plain": [
       "1577"
      ]
     },
     "execution_count": 200,
     "metadata": {},
     "output_type": "execute_result"
    }
   ],
   "source": [
    "len(number_of_beds)"
   ]
  },
  {
   "cell_type": "code",
   "execution_count": 201,
   "metadata": {
    "ExecuteTime": {
     "end_time": "2020-05-29T20:52:55.948637Z",
     "start_time": "2020-05-29T20:52:55.945217Z"
    }
   },
   "outputs": [],
   "source": [
    "lettings['number_of_beds'] = number_of_beds"
   ]
  },
  {
   "cell_type": "code",
   "execution_count": 202,
   "metadata": {
    "ExecuteTime": {
     "end_time": "2020-05-29T20:52:59.104746Z",
     "start_time": "2020-05-29T20:52:59.100500Z"
    }
   },
   "outputs": [],
   "source": [
    "lettings.number_of_beds = lettings.number_of_beds.apply(lambda y: np.nan if len(y)==0 else y)"
   ]
  },
  {
   "cell_type": "code",
   "execution_count": 203,
   "metadata": {
    "ExecuteTime": {
     "end_time": "2020-05-29T20:53:00.418458Z",
     "start_time": "2020-05-29T20:53:00.411158Z"
    }
   },
   "outputs": [],
   "source": [
    "lettings.dropna(subset=['number_of_beds'], inplace=True)"
   ]
  },
  {
   "cell_type": "code",
   "execution_count": 204,
   "metadata": {
    "ExecuteTime": {
     "end_time": "2020-05-29T20:53:01.570055Z",
     "start_time": "2020-05-29T20:53:01.566431Z"
    }
   },
   "outputs": [],
   "source": [
    "number_beds = []\n",
    "for i in lettings.number_of_beds:\n",
    "    for f in i:\n",
    "        try:\n",
    "            number_beds.append(f)\n",
    "        except:\n",
    "            number_beds.append(np.nan)"
   ]
  },
  {
   "cell_type": "code",
   "execution_count": 205,
   "metadata": {
    "ExecuteTime": {
     "end_time": "2020-05-29T20:53:02.885374Z",
     "start_time": "2020-05-29T20:53:02.879896Z"
    }
   },
   "outputs": [
    {
     "data": {
      "text/plain": [
       "0       1 bed \n",
       "1       1 bed \n",
       "2       1 bed \n",
       "3       1 bed \n",
       "4       1 bed \n",
       "         ...  \n",
       "1572    1 bed \n",
       "1573    2 beds\n",
       "1574    3 beds\n",
       "1575    2 beds\n",
       "1576    1 bed \n",
       "Name: num_beds, Length: 1572, dtype: object"
      ]
     },
     "execution_count": 205,
     "metadata": {},
     "output_type": "execute_result"
    }
   ],
   "source": [
    "lettings['num_beds'] = number_beds\n",
    "\n",
    "lettings['num_beds'].astype(str)"
   ]
  },
  {
   "cell_type": "code",
   "execution_count": 206,
   "metadata": {
    "ExecuteTime": {
     "end_time": "2020-05-29T20:53:05.814267Z",
     "start_time": "2020-05-29T20:53:05.807443Z"
    }
   },
   "outputs": [],
   "source": [
    "lettings['beds'] = lettings['num_beds'].str.split(n=1).str[0]"
   ]
  },
  {
   "cell_type": "code",
   "execution_count": 207,
   "metadata": {
    "ExecuteTime": {
     "end_time": "2020-05-29T20:53:08.188922Z",
     "start_time": "2020-05-29T20:53:08.182726Z"
    }
   },
   "outputs": [],
   "source": [
    "lettings.drop(['number_of_beds','num_beds'], axis=1, inplace=True)"
   ]
  },
  {
   "cell_type": "code",
   "execution_count": 208,
   "metadata": {
    "ExecuteTime": {
     "end_time": "2020-05-29T20:53:10.794791Z",
     "start_time": "2020-05-29T20:53:10.790222Z"
    }
   },
   "outputs": [],
   "source": [
    "lettings['beds'] = pd.to_numeric(lettings['beds'])"
   ]
  },
  {
   "cell_type": "code",
   "execution_count": 209,
   "metadata": {
    "ExecuteTime": {
     "end_time": "2020-05-29T20:53:12.078802Z",
     "start_time": "2020-05-29T20:53:12.074757Z"
    }
   },
   "outputs": [
    {
     "data": {
      "text/plain": [
       "(1572, 12)"
      ]
     },
     "execution_count": 209,
     "metadata": {},
     "output_type": "execute_result"
    }
   ],
   "source": [
    "lettings.shape"
   ]
  },
  {
   "cell_type": "code",
   "execution_count": 210,
   "metadata": {
    "ExecuteTime": {
     "end_time": "2020-05-29T20:53:40.975711Z",
     "start_time": "2020-05-29T20:53:40.921044Z"
    }
   },
   "outputs": [],
   "source": [
    "lettings.to_csv('lettings_with_price4', index=False)"
   ]
  },
  {
   "cell_type": "markdown",
   "metadata": {},
   "source": [
    "### Cleaning the number of bathrooms"
   ]
  },
  {
   "cell_type": "code",
   "execution_count": 273,
   "metadata": {
    "ExecuteTime": {
     "end_time": "2020-05-29T21:43:56.392322Z",
     "start_time": "2020-05-29T21:43:56.389212Z"
    }
   },
   "outputs": [],
   "source": [
    "bath_pattern = re.compile('(\\d+.?\\d*)(?=.?share[d|\\s]|.?bath|.?private)')"
   ]
  },
  {
   "cell_type": "code",
   "execution_count": 274,
   "metadata": {
    "ExecuteTime": {
     "end_time": "2020-05-29T21:43:57.743875Z",
     "start_time": "2020-05-29T21:43:57.740203Z"
    }
   },
   "outputs": [
    {
     "data": {
      "text/plain": [
       "'Entire flat hosted by Robert\\n5 guests · 2 bedrooms · 2 beds · 1.5 bathrooms'"
      ]
     },
     "execution_count": 274,
     "metadata": {},
     "output_type": "execute_result"
    }
   ],
   "source": [
    "lettings['info'][15]"
   ]
  },
  {
   "cell_type": "code",
   "execution_count": 275,
   "metadata": {
    "ExecuteTime": {
     "end_time": "2020-05-29T21:43:58.926863Z",
     "start_time": "2020-05-29T21:43:58.916934Z"
    }
   },
   "outputs": [],
   "source": [
    "number_of_baths = []\n",
    "for i in lettings['info']:\n",
    "    try:\n",
    "        number_of_baths.append(re.findall(bath_pattern, i))\n",
    "    except:\n",
    "        number_of_baths.append(np.nan)"
   ]
  },
  {
   "cell_type": "code",
   "execution_count": 277,
   "metadata": {
    "ExecuteTime": {
     "end_time": "2020-05-30T06:47:45.290770Z",
     "start_time": "2020-05-30T06:47:45.270098Z"
    }
   },
   "outputs": [
    {
     "data": {
      "text/plain": [
       "1572"
      ]
     },
     "execution_count": 277,
     "metadata": {},
     "output_type": "execute_result"
    }
   ],
   "source": [
    "len(number_of_baths)"
   ]
  },
  {
   "cell_type": "code",
   "execution_count": 278,
   "metadata": {
    "ExecuteTime": {
     "end_time": "2020-05-30T06:47:55.850109Z",
     "start_time": "2020-05-30T06:47:55.840861Z"
    }
   },
   "outputs": [],
   "source": [
    "lettings['bathrooms'] = number_of_baths"
   ]
  },
  {
   "cell_type": "code",
   "execution_count": 279,
   "metadata": {
    "ExecuteTime": {
     "end_time": "2020-05-30T06:47:58.334281Z",
     "start_time": "2020-05-30T06:47:58.326512Z"
    }
   },
   "outputs": [],
   "source": [
    "lettings.bathrooms = lettings.bathrooms.apply(lambda y: np.nan if len(y)==0 else y)"
   ]
  },
  {
   "cell_type": "code",
   "execution_count": 280,
   "metadata": {
    "ExecuteTime": {
     "end_time": "2020-05-30T06:48:00.596371Z",
     "start_time": "2020-05-30T06:48:00.572347Z"
    }
   },
   "outputs": [],
   "source": [
    "lettings.dropna(subset=['bathrooms'], inplace=True)"
   ]
  },
  {
   "cell_type": "code",
   "execution_count": 281,
   "metadata": {
    "ExecuteTime": {
     "end_time": "2020-05-30T06:48:02.945139Z",
     "start_time": "2020-05-30T06:48:02.939334Z"
    }
   },
   "outputs": [],
   "source": [
    "number_baths = []\n",
    "for i in lettings.bathrooms:\n",
    "    for f in i:\n",
    "        number_baths.append(f)"
   ]
  },
  {
   "cell_type": "code",
   "execution_count": 282,
   "metadata": {
    "ExecuteTime": {
     "end_time": "2020-05-30T06:48:05.303470Z",
     "start_time": "2020-05-30T06:48:05.296374Z"
    }
   },
   "outputs": [
    {
     "data": {
      "text/plain": [
       "1563"
      ]
     },
     "execution_count": 282,
     "metadata": {},
     "output_type": "execute_result"
    }
   ],
   "source": [
    "len(number_baths)"
   ]
  },
  {
   "cell_type": "code",
   "execution_count": 283,
   "metadata": {
    "ExecuteTime": {
     "end_time": "2020-05-30T06:48:09.158657Z",
     "start_time": "2020-05-30T06:48:09.154141Z"
    }
   },
   "outputs": [],
   "source": [
    "lettings['bathrooms'] = number_baths"
   ]
  },
  {
   "cell_type": "code",
   "execution_count": 284,
   "metadata": {
    "ExecuteTime": {
     "end_time": "2020-05-30T06:48:11.665489Z",
     "start_time": "2020-05-30T06:48:11.654603Z"
    }
   },
   "outputs": [],
   "source": [
    "lettings['bathrooms'] = pd.to_numeric(lettings['bathrooms'])"
   ]
  },
  {
   "cell_type": "code",
   "execution_count": 285,
   "metadata": {
    "ExecuteTime": {
     "end_time": "2020-05-30T06:48:14.187599Z",
     "start_time": "2020-05-30T06:48:14.163318Z"
    }
   },
   "outputs": [
    {
     "data": {
      "text/html": [
       "<div>\n",
       "<style scoped>\n",
       "    .dataframe tbody tr th:only-of-type {\n",
       "        vertical-align: middle;\n",
       "    }\n",
       "\n",
       "    .dataframe tbody tr th {\n",
       "        vertical-align: top;\n",
       "    }\n",
       "\n",
       "    .dataframe thead th {\n",
       "        text-align: right;\n",
       "    }\n",
       "</style>\n",
       "<table border=\"1\" class=\"dataframe\">\n",
       "  <thead>\n",
       "    <tr style=\"text-align: right;\">\n",
       "      <th></th>\n",
       "      <th>Title</th>\n",
       "      <th>info</th>\n",
       "      <th>Rating</th>\n",
       "      <th>reviews</th>\n",
       "      <th>price_per_night</th>\n",
       "      <th>no_amenities</th>\n",
       "      <th>rating</th>\n",
       "      <th>new_ratings</th>\n",
       "      <th>number_of_reviews</th>\n",
       "      <th>accomodation_type</th>\n",
       "      <th>guests</th>\n",
       "      <th>beds</th>\n",
       "      <th>bathrooms</th>\n",
       "    </tr>\n",
       "  </thead>\n",
       "  <tbody>\n",
       "    <tr>\n",
       "      <td>0</td>\n",
       "      <td>The Studio in West Ealing London</td>\n",
       "      <td>Entire guest suite hosted by Tania\\n2 guests ·...</td>\n",
       "      <td>4.69 out of 5 stars from 275 reviews\\n4.69 (27...</td>\n",
       "      <td>['Jessica\\nApril 2020\\nA very compact space cl...</td>\n",
       "      <td>£45/ night</td>\n",
       "      <td>Show all 28 amenities</td>\n",
       "      <td>4.69</td>\n",
       "      <td>4.69</td>\n",
       "      <td>275.0</td>\n",
       "      <td>Entire guest suite</td>\n",
       "      <td>2</td>\n",
       "      <td>1</td>\n",
       "      <td>1.0</td>\n",
       "    </tr>\n",
       "    <tr>\n",
       "      <td>1</td>\n",
       "      <td>LAST MINUTE - SINGLE ROOM</td>\n",
       "      <td>Private room in house hosted by Jelena\\n1 gues...</td>\n",
       "      <td>4.87 out of 5 stars from 164 reviews\\n4.87 (16...</td>\n",
       "      <td>['Richard\\nMarch 2020\\nAll you need for a stay...</td>\n",
       "      <td>£29/ night</td>\n",
       "      <td>Show all 25 amenities</td>\n",
       "      <td>4.87</td>\n",
       "      <td>4.87</td>\n",
       "      <td>164.0</td>\n",
       "      <td>Private room in house</td>\n",
       "      <td>1</td>\n",
       "      <td>1</td>\n",
       "      <td>2.0</td>\n",
       "    </tr>\n",
       "    <tr>\n",
       "      <td>2</td>\n",
       "      <td>Homely room in leafy Ealing.</td>\n",
       "      <td>Private room in house hosted by Tina\\n1 guest ...</td>\n",
       "      <td>4.75 out of 5 stars from 333 reviews\\n4.75 (33...</td>\n",
       "      <td>['Brian\\nMarch 2020\\nSecond time staying with ...</td>\n",
       "      <td>£29/ night</td>\n",
       "      <td>Show all 17 amenities</td>\n",
       "      <td>4.75</td>\n",
       "      <td>4.75</td>\n",
       "      <td>333.0</td>\n",
       "      <td>Private room in house</td>\n",
       "      <td>1</td>\n",
       "      <td>1</td>\n",
       "      <td>1.0</td>\n",
       "    </tr>\n",
       "    <tr>\n",
       "      <td>3</td>\n",
       "      <td>Small single room, West London, budget travel!</td>\n",
       "      <td>Private room in house hosted by Rashpal\\n1 gue...</td>\n",
       "      <td>4.68 out of 5 stars from 28 reviews\\n4.68 (28 ...</td>\n",
       "      <td>[\"Czarek\\nFebruary 2020\\nAnother great stay at...</td>\n",
       "      <td>£21/ night</td>\n",
       "      <td>Show all 26 amenities</td>\n",
       "      <td>4.68</td>\n",
       "      <td>4.68</td>\n",
       "      <td>28.0</td>\n",
       "      <td>Private room in house</td>\n",
       "      <td>1</td>\n",
       "      <td>1</td>\n",
       "      <td>1.0</td>\n",
       "    </tr>\n",
       "    <tr>\n",
       "      <td>4</td>\n",
       "      <td>Cosy Double Room</td>\n",
       "      <td>Private room in house hosted by Jesika\\n1 gues...</td>\n",
       "      <td>4.78 out of 5 stars from 39 reviews\\n4.78 (39 ...</td>\n",
       "      <td>['Dory\\nMarch 2020\\nPerfect\\nDory\\nFebruary 20...</td>\n",
       "      <td>£21/ night</td>\n",
       "      <td>Show all 17 amenities</td>\n",
       "      <td>4.78</td>\n",
       "      <td>4.78</td>\n",
       "      <td>39.0</td>\n",
       "      <td>Private room in house</td>\n",
       "      <td>1</td>\n",
       "      <td>1</td>\n",
       "      <td>1.5</td>\n",
       "    </tr>\n",
       "  </tbody>\n",
       "</table>\n",
       "</div>"
      ],
      "text/plain": [
       "                                            Title  \\\n",
       "0                The Studio in West Ealing London   \n",
       "1                       LAST MINUTE - SINGLE ROOM   \n",
       "2                    Homely room in leafy Ealing.   \n",
       "3  Small single room, West London, budget travel!   \n",
       "4                                Cosy Double Room   \n",
       "\n",
       "                                                info  \\\n",
       "0  Entire guest suite hosted by Tania\\n2 guests ·...   \n",
       "1  Private room in house hosted by Jelena\\n1 gues...   \n",
       "2  Private room in house hosted by Tina\\n1 guest ...   \n",
       "3  Private room in house hosted by Rashpal\\n1 gue...   \n",
       "4  Private room in house hosted by Jesika\\n1 gues...   \n",
       "\n",
       "                                              Rating  \\\n",
       "0  4.69 out of 5 stars from 275 reviews\\n4.69 (27...   \n",
       "1  4.87 out of 5 stars from 164 reviews\\n4.87 (16...   \n",
       "2  4.75 out of 5 stars from 333 reviews\\n4.75 (33...   \n",
       "3  4.68 out of 5 stars from 28 reviews\\n4.68 (28 ...   \n",
       "4  4.78 out of 5 stars from 39 reviews\\n4.78 (39 ...   \n",
       "\n",
       "                                             reviews price_per_night  \\\n",
       "0  ['Jessica\\nApril 2020\\nA very compact space cl...      £45/ night   \n",
       "1  ['Richard\\nMarch 2020\\nAll you need for a stay...      £29/ night   \n",
       "2  ['Brian\\nMarch 2020\\nSecond time staying with ...      £29/ night   \n",
       "3  [\"Czarek\\nFebruary 2020\\nAnother great stay at...      £21/ night   \n",
       "4  ['Dory\\nMarch 2020\\nPerfect\\nDory\\nFebruary 20...      £21/ night   \n",
       "\n",
       "            no_amenities  rating new_ratings  number_of_reviews  \\\n",
       "0  Show all 28 amenities    4.69       4.69               275.0   \n",
       "1  Show all 25 amenities    4.87       4.87               164.0   \n",
       "2  Show all 17 amenities    4.75       4.75               333.0   \n",
       "3  Show all 26 amenities    4.68       4.68                28.0   \n",
       "4  Show all 17 amenities    4.78       4.78                39.0   \n",
       "\n",
       "        accomodation_type  guests  beds  bathrooms  \n",
       "0     Entire guest suite        2     1        1.0  \n",
       "1  Private room in house        1     1        2.0  \n",
       "2  Private room in house        1     1        1.0  \n",
       "3  Private room in house        1     1        1.0  \n",
       "4  Private room in house        1     1        1.5  "
      ]
     },
     "execution_count": 285,
     "metadata": {},
     "output_type": "execute_result"
    }
   ],
   "source": [
    "lettings.head()"
   ]
  },
  {
   "cell_type": "code",
   "execution_count": 286,
   "metadata": {
    "ExecuteTime": {
     "end_time": "2020-05-30T06:48:26.864407Z",
     "start_time": "2020-05-30T06:48:26.853905Z"
    }
   },
   "outputs": [
    {
     "data": {
      "text/plain": [
       "Title                0\n",
       "info                 0\n",
       "Rating               0\n",
       "reviews              0\n",
       "price_per_night      0\n",
       "no_amenities         0\n",
       "rating               0\n",
       "new_ratings          0\n",
       "number_of_reviews    1\n",
       "accomodation_type    0\n",
       "guests               0\n",
       "beds                 0\n",
       "bathrooms            0\n",
       "dtype: int64"
      ]
     },
     "execution_count": 286,
     "metadata": {},
     "output_type": "execute_result"
    }
   ],
   "source": [
    "lettings.isnull().sum()"
   ]
  },
  {
   "cell_type": "code",
   "execution_count": 287,
   "metadata": {
    "ExecuteTime": {
     "end_time": "2020-05-30T06:52:27.771677Z",
     "start_time": "2020-05-30T06:52:27.735084Z"
    }
   },
   "outputs": [],
   "source": [
    "lettings.dropna(inplace=True)"
   ]
  },
  {
   "cell_type": "code",
   "execution_count": 288,
   "metadata": {
    "ExecuteTime": {
     "end_time": "2020-05-30T06:52:30.283499Z",
     "start_time": "2020-05-30T06:52:30.272714Z"
    }
   },
   "outputs": [
    {
     "data": {
      "text/plain": [
       "Title                0\n",
       "info                 0\n",
       "Rating               0\n",
       "reviews              0\n",
       "price_per_night      0\n",
       "no_amenities         0\n",
       "rating               0\n",
       "new_ratings          0\n",
       "number_of_reviews    0\n",
       "accomodation_type    0\n",
       "guests               0\n",
       "beds                 0\n",
       "bathrooms            0\n",
       "dtype: int64"
      ]
     },
     "execution_count": 288,
     "metadata": {},
     "output_type": "execute_result"
    }
   ],
   "source": [
    "lettings.isnull().sum()"
   ]
  },
  {
   "cell_type": "code",
   "execution_count": 289,
   "metadata": {
    "ExecuteTime": {
     "end_time": "2020-05-30T06:52:34.327928Z",
     "start_time": "2020-05-30T06:52:34.319552Z"
    },
    "scrolled": true
   },
   "outputs": [
    {
     "data": {
      "text/plain": [
       "Title                 object\n",
       "info                  object\n",
       "Rating                object\n",
       "reviews               object\n",
       "price_per_night       object\n",
       "no_amenities          object\n",
       "rating               float64\n",
       "new_ratings           object\n",
       "number_of_reviews    float64\n",
       "accomodation_type     object\n",
       "guests                 int64\n",
       "beds                   int64\n",
       "bathrooms            float64\n",
       "dtype: object"
      ]
     },
     "execution_count": 289,
     "metadata": {},
     "output_type": "execute_result"
    }
   ],
   "source": [
    "lettings.dtypes"
   ]
  },
  {
   "cell_type": "markdown",
   "metadata": {},
   "source": [
    "### Cleaning the Price column"
   ]
  },
  {
   "cell_type": "code",
   "execution_count": 293,
   "metadata": {
    "ExecuteTime": {
     "end_time": "2020-05-30T06:55:45.822075Z",
     "start_time": "2020-05-30T06:55:45.806398Z"
    }
   },
   "outputs": [
    {
     "data": {
      "text/html": [
       "<div>\n",
       "<style scoped>\n",
       "    .dataframe tbody tr th:only-of-type {\n",
       "        vertical-align: middle;\n",
       "    }\n",
       "\n",
       "    .dataframe tbody tr th {\n",
       "        vertical-align: top;\n",
       "    }\n",
       "\n",
       "    .dataframe thead th {\n",
       "        text-align: right;\n",
       "    }\n",
       "</style>\n",
       "<table border=\"1\" class=\"dataframe\">\n",
       "  <thead>\n",
       "    <tr style=\"text-align: right;\">\n",
       "      <th></th>\n",
       "      <th>Title</th>\n",
       "      <th>info</th>\n",
       "      <th>Rating</th>\n",
       "      <th>reviews</th>\n",
       "      <th>price_per_night</th>\n",
       "      <th>no_amenities</th>\n",
       "      <th>rating</th>\n",
       "      <th>new_ratings</th>\n",
       "      <th>number_of_reviews</th>\n",
       "      <th>accomodation_type</th>\n",
       "      <th>guests</th>\n",
       "      <th>beds</th>\n",
       "      <th>bathrooms</th>\n",
       "    </tr>\n",
       "  </thead>\n",
       "  <tbody>\n",
       "    <tr>\n",
       "      <td>0</td>\n",
       "      <td>The Studio in West Ealing London</td>\n",
       "      <td>Entire guest suite hosted by Tania\\n2 guests ·...</td>\n",
       "      <td>4.69 out of 5 stars from 275 reviews\\n4.69 (27...</td>\n",
       "      <td>['Jessica\\nApril 2020\\nA very compact space cl...</td>\n",
       "      <td>£45/ night</td>\n",
       "      <td>Show all 28 amenities</td>\n",
       "      <td>4.69</td>\n",
       "      <td>4.69</td>\n",
       "      <td>275.0</td>\n",
       "      <td>Entire guest suite</td>\n",
       "      <td>2</td>\n",
       "      <td>1</td>\n",
       "      <td>1.0</td>\n",
       "    </tr>\n",
       "    <tr>\n",
       "      <td>1</td>\n",
       "      <td>LAST MINUTE - SINGLE ROOM</td>\n",
       "      <td>Private room in house hosted by Jelena\\n1 gues...</td>\n",
       "      <td>4.87 out of 5 stars from 164 reviews\\n4.87 (16...</td>\n",
       "      <td>['Richard\\nMarch 2020\\nAll you need for a stay...</td>\n",
       "      <td>£29/ night</td>\n",
       "      <td>Show all 25 amenities</td>\n",
       "      <td>4.87</td>\n",
       "      <td>4.87</td>\n",
       "      <td>164.0</td>\n",
       "      <td>Private room in house</td>\n",
       "      <td>1</td>\n",
       "      <td>1</td>\n",
       "      <td>2.0</td>\n",
       "    </tr>\n",
       "    <tr>\n",
       "      <td>2</td>\n",
       "      <td>Homely room in leafy Ealing.</td>\n",
       "      <td>Private room in house hosted by Tina\\n1 guest ...</td>\n",
       "      <td>4.75 out of 5 stars from 333 reviews\\n4.75 (33...</td>\n",
       "      <td>['Brian\\nMarch 2020\\nSecond time staying with ...</td>\n",
       "      <td>£29/ night</td>\n",
       "      <td>Show all 17 amenities</td>\n",
       "      <td>4.75</td>\n",
       "      <td>4.75</td>\n",
       "      <td>333.0</td>\n",
       "      <td>Private room in house</td>\n",
       "      <td>1</td>\n",
       "      <td>1</td>\n",
       "      <td>1.0</td>\n",
       "    </tr>\n",
       "    <tr>\n",
       "      <td>3</td>\n",
       "      <td>Small single room, West London, budget travel!</td>\n",
       "      <td>Private room in house hosted by Rashpal\\n1 gue...</td>\n",
       "      <td>4.68 out of 5 stars from 28 reviews\\n4.68 (28 ...</td>\n",
       "      <td>[\"Czarek\\nFebruary 2020\\nAnother great stay at...</td>\n",
       "      <td>£21/ night</td>\n",
       "      <td>Show all 26 amenities</td>\n",
       "      <td>4.68</td>\n",
       "      <td>4.68</td>\n",
       "      <td>28.0</td>\n",
       "      <td>Private room in house</td>\n",
       "      <td>1</td>\n",
       "      <td>1</td>\n",
       "      <td>1.0</td>\n",
       "    </tr>\n",
       "    <tr>\n",
       "      <td>4</td>\n",
       "      <td>Cosy Double Room</td>\n",
       "      <td>Private room in house hosted by Jesika\\n1 gues...</td>\n",
       "      <td>4.78 out of 5 stars from 39 reviews\\n4.78 (39 ...</td>\n",
       "      <td>['Dory\\nMarch 2020\\nPerfect\\nDory\\nFebruary 20...</td>\n",
       "      <td>£21/ night</td>\n",
       "      <td>Show all 17 amenities</td>\n",
       "      <td>4.78</td>\n",
       "      <td>4.78</td>\n",
       "      <td>39.0</td>\n",
       "      <td>Private room in house</td>\n",
       "      <td>1</td>\n",
       "      <td>1</td>\n",
       "      <td>1.5</td>\n",
       "    </tr>\n",
       "  </tbody>\n",
       "</table>\n",
       "</div>"
      ],
      "text/plain": [
       "                                            Title  \\\n",
       "0                The Studio in West Ealing London   \n",
       "1                       LAST MINUTE - SINGLE ROOM   \n",
       "2                    Homely room in leafy Ealing.   \n",
       "3  Small single room, West London, budget travel!   \n",
       "4                                Cosy Double Room   \n",
       "\n",
       "                                                info  \\\n",
       "0  Entire guest suite hosted by Tania\\n2 guests ·...   \n",
       "1  Private room in house hosted by Jelena\\n1 gues...   \n",
       "2  Private room in house hosted by Tina\\n1 guest ...   \n",
       "3  Private room in house hosted by Rashpal\\n1 gue...   \n",
       "4  Private room in house hosted by Jesika\\n1 gues...   \n",
       "\n",
       "                                              Rating  \\\n",
       "0  4.69 out of 5 stars from 275 reviews\\n4.69 (27...   \n",
       "1  4.87 out of 5 stars from 164 reviews\\n4.87 (16...   \n",
       "2  4.75 out of 5 stars from 333 reviews\\n4.75 (33...   \n",
       "3  4.68 out of 5 stars from 28 reviews\\n4.68 (28 ...   \n",
       "4  4.78 out of 5 stars from 39 reviews\\n4.78 (39 ...   \n",
       "\n",
       "                                             reviews price_per_night  \\\n",
       "0  ['Jessica\\nApril 2020\\nA very compact space cl...      £45/ night   \n",
       "1  ['Richard\\nMarch 2020\\nAll you need for a stay...      £29/ night   \n",
       "2  ['Brian\\nMarch 2020\\nSecond time staying with ...      £29/ night   \n",
       "3  [\"Czarek\\nFebruary 2020\\nAnother great stay at...      £21/ night   \n",
       "4  ['Dory\\nMarch 2020\\nPerfect\\nDory\\nFebruary 20...      £21/ night   \n",
       "\n",
       "            no_amenities  rating new_ratings  number_of_reviews  \\\n",
       "0  Show all 28 amenities    4.69       4.69               275.0   \n",
       "1  Show all 25 amenities    4.87       4.87               164.0   \n",
       "2  Show all 17 amenities    4.75       4.75               333.0   \n",
       "3  Show all 26 amenities    4.68       4.68                28.0   \n",
       "4  Show all 17 amenities    4.78       4.78                39.0   \n",
       "\n",
       "        accomodation_type  guests  beds  bathrooms  \n",
       "0     Entire guest suite        2     1        1.0  \n",
       "1  Private room in house        1     1        2.0  \n",
       "2  Private room in house        1     1        1.0  \n",
       "3  Private room in house        1     1        1.0  \n",
       "4  Private room in house        1     1        1.5  "
      ]
     },
     "execution_count": 293,
     "metadata": {},
     "output_type": "execute_result"
    }
   ],
   "source": [
    "lettings.head()"
   ]
  },
  {
   "cell_type": "code",
   "execution_count": 296,
   "metadata": {
    "ExecuteTime": {
     "end_time": "2020-05-30T06:58:56.103408Z",
     "start_time": "2020-05-30T06:58:56.096898Z"
    }
   },
   "outputs": [],
   "source": [
    "lettings['remove_pound'] = lettings['price_per_night'].str.split('£',n=2).str[1]"
   ]
  },
  {
   "cell_type": "code",
   "execution_count": 297,
   "metadata": {
    "ExecuteTime": {
     "end_time": "2020-05-30T06:59:32.480422Z",
     "start_time": "2020-05-30T06:59:32.474055Z"
    }
   },
   "outputs": [],
   "source": [
    "lettings['price'] = lettings['remove_pound'].str.split('/',n=2).str[0]"
   ]
  },
  {
   "cell_type": "code",
   "execution_count": 304,
   "metadata": {
    "ExecuteTime": {
     "end_time": "2020-05-30T07:02:00.829954Z",
     "start_time": "2020-05-30T07:02:00.824633Z"
    }
   },
   "outputs": [],
   "source": [
    "lettings.drop('remove_pound', axis=1, inplace=True)"
   ]
  },
  {
   "cell_type": "code",
   "execution_count": 318,
   "metadata": {
    "ExecuteTime": {
     "end_time": "2020-05-30T07:09:36.081508Z",
     "start_time": "2020-05-30T07:09:36.076573Z"
    }
   },
   "outputs": [],
   "source": [
    "lettings['price'] = pd.to_numeric(lettings['price'])"
   ]
  },
  {
   "cell_type": "markdown",
   "metadata": {},
   "source": [
    "### Cleaning the number of amenities"
   ]
  },
  {
   "cell_type": "code",
   "execution_count": 306,
   "metadata": {
    "ExecuteTime": {
     "end_time": "2020-05-30T07:04:12.727282Z",
     "start_time": "2020-05-30T07:04:12.723642Z"
    }
   },
   "outputs": [],
   "source": [
    "amenity_pattern = re.compile('\\d+')"
   ]
  },
  {
   "cell_type": "code",
   "execution_count": 307,
   "metadata": {
    "ExecuteTime": {
     "end_time": "2020-05-30T07:05:14.913625Z",
     "start_time": "2020-05-30T07:05:14.905014Z"
    }
   },
   "outputs": [],
   "source": [
    "number_of_amenities = []\n",
    "for i in lettings['no_amenities']:\n",
    "    try:\n",
    "        number_of_amenities.append(re.findall(amenity_pattern, i))\n",
    "    except:\n",
    "        number_of_amenities.append(np.nan)"
   ]
  },
  {
   "cell_type": "code",
   "execution_count": 310,
   "metadata": {
    "ExecuteTime": {
     "end_time": "2020-05-30T07:06:41.279526Z",
     "start_time": "2020-05-30T07:06:41.275793Z"
    }
   },
   "outputs": [],
   "source": [
    "lettings['amenities'] = number_of_amenities"
   ]
  },
  {
   "cell_type": "code",
   "execution_count": 311,
   "metadata": {
    "ExecuteTime": {
     "end_time": "2020-05-30T07:06:42.882687Z",
     "start_time": "2020-05-30T07:06:42.879253Z"
    }
   },
   "outputs": [],
   "source": [
    "lettings.amenities = lettings.amenities.apply(lambda y: np.nan if len(y)==0 else y)"
   ]
  },
  {
   "cell_type": "code",
   "execution_count": 312,
   "metadata": {
    "ExecuteTime": {
     "end_time": "2020-05-30T07:07:24.930734Z",
     "start_time": "2020-05-30T07:07:24.923699Z"
    }
   },
   "outputs": [],
   "source": [
    "lettings.dropna(subset=['amenities'], inplace=True)"
   ]
  },
  {
   "cell_type": "code",
   "execution_count": 314,
   "metadata": {
    "ExecuteTime": {
     "end_time": "2020-05-30T07:08:26.780679Z",
     "start_time": "2020-05-30T07:08:26.777157Z"
    }
   },
   "outputs": [],
   "source": [
    "num_amen = []\n",
    "for i in lettings.amenities:\n",
    "    for f in i:\n",
    "        num_amen.append(f)"
   ]
  },
  {
   "cell_type": "code",
   "execution_count": 315,
   "metadata": {
    "ExecuteTime": {
     "end_time": "2020-05-30T07:08:42.602638Z",
     "start_time": "2020-05-30T07:08:42.599207Z"
    }
   },
   "outputs": [],
   "source": [
    "lettings['amenities'] = num_amen"
   ]
  },
  {
   "cell_type": "code",
   "execution_count": 319,
   "metadata": {
    "ExecuteTime": {
     "end_time": "2020-05-30T07:09:48.292947Z",
     "start_time": "2020-05-30T07:09:48.288223Z"
    }
   },
   "outputs": [],
   "source": [
    "lettings['amenities'] = pd.to_numeric(lettings['amenities'])"
   ]
  },
  {
   "cell_type": "code",
   "execution_count": 321,
   "metadata": {
    "ExecuteTime": {
     "end_time": "2020-05-30T07:10:00.112926Z",
     "start_time": "2020-05-30T07:10:00.108091Z"
    }
   },
   "outputs": [
    {
     "data": {
      "text/plain": [
       "Title                 object\n",
       "info                  object\n",
       "Rating                object\n",
       "reviews               object\n",
       "price_per_night       object\n",
       "no_amenities          object\n",
       "rating               float64\n",
       "new_ratings           object\n",
       "number_of_reviews    float64\n",
       "accomodation_type     object\n",
       "guests                 int64\n",
       "beds                   int64\n",
       "bathrooms            float64\n",
       "price                  int64\n",
       "amenities              int64\n",
       "dtype: object"
      ]
     },
     "execution_count": 321,
     "metadata": {},
     "output_type": "execute_result"
    }
   ],
   "source": [
    "lettings.dtypes"
   ]
  },
  {
   "cell_type": "code",
   "execution_count": 327,
   "metadata": {
    "ExecuteTime": {
     "end_time": "2020-05-30T07:14:17.911422Z",
     "start_time": "2020-05-30T07:14:17.906180Z"
    }
   },
   "outputs": [],
   "source": [
    "lettings.rename(columns={'Title': 'title'}, inplace=True)"
   ]
  },
  {
   "cell_type": "code",
   "execution_count": 140,
   "metadata": {
    "ExecuteTime": {
     "end_time": "2020-05-13T07:15:26.752762Z",
     "start_time": "2020-05-13T07:15:26.745383Z"
    }
   },
   "outputs": [],
   "source": [
    "lettings.dropna(inplace=True)"
   ]
  },
  {
   "cell_type": "markdown",
   "metadata": {},
   "source": [
    "### Removing the \\\\n in reviews"
   ]
  },
  {
   "cell_type": "code",
   "execution_count": 4,
   "metadata": {
    "ExecuteTime": {
     "end_time": "2020-06-11T14:18:33.888816Z",
     "start_time": "2020-06-11T14:18:33.877696Z"
    }
   },
   "outputs": [
    {
     "data": {
      "text/html": [
       "<div>\n",
       "<style scoped>\n",
       "    .dataframe tbody tr th:only-of-type {\n",
       "        vertical-align: middle;\n",
       "    }\n",
       "\n",
       "    .dataframe tbody tr th {\n",
       "        vertical-align: top;\n",
       "    }\n",
       "\n",
       "    .dataframe thead th {\n",
       "        text-align: right;\n",
       "    }\n",
       "</style>\n",
       "<table border=\"1\" class=\"dataframe\">\n",
       "  <thead>\n",
       "    <tr style=\"text-align: right;\">\n",
       "      <th></th>\n",
       "      <th>title</th>\n",
       "      <th>reviews</th>\n",
       "      <th>rating</th>\n",
       "      <th>number_of_reviews</th>\n",
       "      <th>accomodation_type</th>\n",
       "      <th>guests</th>\n",
       "      <th>beds</th>\n",
       "      <th>bathrooms</th>\n",
       "      <th>price</th>\n",
       "      <th>amenities</th>\n",
       "    </tr>\n",
       "  </thead>\n",
       "  <tbody>\n",
       "    <tr>\n",
       "      <td>0</td>\n",
       "      <td>The Studio in West Ealing London</td>\n",
       "      <td>['Jessica\\nApril 2020\\nA very compact space cl...</td>\n",
       "      <td>4.69</td>\n",
       "      <td>275.0</td>\n",
       "      <td>Entire guest suite</td>\n",
       "      <td>2</td>\n",
       "      <td>1</td>\n",
       "      <td>1.0</td>\n",
       "      <td>45</td>\n",
       "      <td>28</td>\n",
       "    </tr>\n",
       "    <tr>\n",
       "      <td>1</td>\n",
       "      <td>LAST MINUTE - SINGLE ROOM</td>\n",
       "      <td>['Richard\\nMarch 2020\\nAll you need for a stay...</td>\n",
       "      <td>4.87</td>\n",
       "      <td>164.0</td>\n",
       "      <td>Private room in house</td>\n",
       "      <td>1</td>\n",
       "      <td>1</td>\n",
       "      <td>2.0</td>\n",
       "      <td>29</td>\n",
       "      <td>25</td>\n",
       "    </tr>\n",
       "    <tr>\n",
       "      <td>2</td>\n",
       "      <td>Homely room in leafy Ealing.</td>\n",
       "      <td>['Brian\\nMarch 2020\\nSecond time staying with ...</td>\n",
       "      <td>4.75</td>\n",
       "      <td>333.0</td>\n",
       "      <td>Private room in house</td>\n",
       "      <td>1</td>\n",
       "      <td>1</td>\n",
       "      <td>1.0</td>\n",
       "      <td>29</td>\n",
       "      <td>17</td>\n",
       "    </tr>\n",
       "    <tr>\n",
       "      <td>3</td>\n",
       "      <td>Small single room, West London, budget travel!</td>\n",
       "      <td>[\"Czarek\\nFebruary 2020\\nAnother great stay at...</td>\n",
       "      <td>4.68</td>\n",
       "      <td>28.0</td>\n",
       "      <td>Private room in house</td>\n",
       "      <td>1</td>\n",
       "      <td>1</td>\n",
       "      <td>1.0</td>\n",
       "      <td>21</td>\n",
       "      <td>26</td>\n",
       "    </tr>\n",
       "    <tr>\n",
       "      <td>4</td>\n",
       "      <td>Cosy Double Room</td>\n",
       "      <td>['Dory\\nMarch 2020\\nPerfect\\nDory\\nFebruary 20...</td>\n",
       "      <td>4.78</td>\n",
       "      <td>39.0</td>\n",
       "      <td>Private room in house</td>\n",
       "      <td>1</td>\n",
       "      <td>1</td>\n",
       "      <td>1.5</td>\n",
       "      <td>21</td>\n",
       "      <td>17</td>\n",
       "    </tr>\n",
       "  </tbody>\n",
       "</table>\n",
       "</div>"
      ],
      "text/plain": [
       "                                            title  \\\n",
       "0                The Studio in West Ealing London   \n",
       "1                       LAST MINUTE - SINGLE ROOM   \n",
       "2                    Homely room in leafy Ealing.   \n",
       "3  Small single room, West London, budget travel!   \n",
       "4                                Cosy Double Room   \n",
       "\n",
       "                                             reviews  rating  \\\n",
       "0  ['Jessica\\nApril 2020\\nA very compact space cl...    4.69   \n",
       "1  ['Richard\\nMarch 2020\\nAll you need for a stay...    4.87   \n",
       "2  ['Brian\\nMarch 2020\\nSecond time staying with ...    4.75   \n",
       "3  [\"Czarek\\nFebruary 2020\\nAnother great stay at...    4.68   \n",
       "4  ['Dory\\nMarch 2020\\nPerfect\\nDory\\nFebruary 20...    4.78   \n",
       "\n",
       "   number_of_reviews       accomodation_type  guests  beds  bathrooms  price  \\\n",
       "0              275.0     Entire guest suite        2     1        1.0     45   \n",
       "1              164.0  Private room in house        1     1        2.0     29   \n",
       "2              333.0  Private room in house        1     1        1.0     29   \n",
       "3               28.0  Private room in house        1     1        1.0     21   \n",
       "4               39.0  Private room in house        1     1        1.5     21   \n",
       "\n",
       "   amenities  \n",
       "0         28  \n",
       "1         25  \n",
       "2         17  \n",
       "3         26  \n",
       "4         17  "
      ]
     },
     "execution_count": 4,
     "metadata": {},
     "output_type": "execute_result"
    }
   ],
   "source": [
    "lettings.head()"
   ]
  },
  {
   "cell_type": "code",
   "execution_count": 5,
   "metadata": {
    "ExecuteTime": {
     "end_time": "2020-06-11T14:19:14.521838Z",
     "start_time": "2020-06-11T14:19:14.510940Z"
    }
   },
   "outputs": [],
   "source": [
    "reviews = []\n",
    "for i in lettings.reviews:\n",
    "    reviews.append(i.replace('\\\\n', ' '))"
   ]
  },
  {
   "cell_type": "code",
   "execution_count": 7,
   "metadata": {
    "ExecuteTime": {
     "end_time": "2020-06-11T14:19:34.143076Z",
     "start_time": "2020-06-11T14:19:34.139677Z"
    }
   },
   "outputs": [],
   "source": [
    "lettings['reviews'] = reviews"
   ]
  },
  {
   "cell_type": "markdown",
   "metadata": {},
   "source": [
    "### clean lettings saved to a new csv"
   ]
  },
  {
   "cell_type": "code",
   "execution_count": 142,
   "metadata": {
    "ExecuteTime": {
     "end_time": "2020-05-13T07:15:55.325820Z",
     "start_time": "2020-05-13T07:15:55.197162Z"
    }
   },
   "outputs": [],
   "source": [
    "lettings.to_csv('lettings_with_price4', index=False)"
   ]
  },
  {
   "cell_type": "code",
   "execution_count": 27,
   "metadata": {
    "ExecuteTime": {
     "end_time": "2020-06-10T10:49:10.629235Z",
     "start_time": "2020-06-10T10:49:10.603596Z"
    }
   },
   "outputs": [],
   "source": [
    "lettings = pd.read_csv('lettings_with_price4')"
   ]
  },
  {
   "cell_type": "markdown",
   "metadata": {},
   "source": [
    "I will now take only the relevant columns, and save them to a new file, which I will use from now onwards."
   ]
  },
  {
   "cell_type": "code",
   "execution_count": 28,
   "metadata": {
    "ExecuteTime": {
     "end_time": "2020-06-10T10:49:15.619252Z",
     "start_time": "2020-06-10T10:49:15.609069Z"
    }
   },
   "outputs": [],
   "source": [
    "lettings = lettings[['title','reviews','rating','number_of_reviews','accomodation_type',\n",
    "                      'guests','beds','bathrooms','price','amenities']]"
   ]
  },
  {
   "cell_type": "code",
   "execution_count": 10,
   "metadata": {
    "ExecuteTime": {
     "end_time": "2020-06-11T14:20:08.845197Z",
     "start_time": "2020-06-11T14:20:08.794964Z"
    }
   },
   "outputs": [],
   "source": [
    "lettings.to_csv('clean_lettings_with_price', index=False)"
   ]
  }
 ],
 "metadata": {
  "kernelspec": {
   "display_name": "Python 3",
   "language": "python",
   "name": "python3"
  },
  "language_info": {
   "codemirror_mode": {
    "name": "ipython",
    "version": 3
   },
   "file_extension": ".py",
   "mimetype": "text/x-python",
   "name": "python",
   "nbconvert_exporter": "python",
   "pygments_lexer": "ipython3",
   "version": "3.7.4"
  },
  "toc": {
   "base_numbering": 1,
   "nav_menu": {},
   "number_sections": true,
   "sideBar": true,
   "skip_h1_title": false,
   "title_cell": "Table of Contents",
   "title_sidebar": "Contents",
   "toc_cell": false,
   "toc_position": {
    "height": "calc(100% - 180px)",
    "left": "10px",
    "top": "150px",
    "width": "360px"
   },
   "toc_section_display": true,
   "toc_window_display": true
  },
  "varInspector": {
   "cols": {
    "lenName": 16,
    "lenType": 16,
    "lenVar": 40
   },
   "kernels_config": {
    "python": {
     "delete_cmd_postfix": "",
     "delete_cmd_prefix": "del ",
     "library": "var_list.py",
     "varRefreshCmd": "print(var_dic_list())"
    },
    "r": {
     "delete_cmd_postfix": ") ",
     "delete_cmd_prefix": "rm(",
     "library": "var_list.r",
     "varRefreshCmd": "cat(var_dic_list()) "
    }
   },
   "types_to_exclude": [
    "module",
    "function",
    "builtin_function_or_method",
    "instance",
    "_Feature"
   ],
   "window_display": false
  }
 },
 "nbformat": 4,
 "nbformat_minor": 2
}
